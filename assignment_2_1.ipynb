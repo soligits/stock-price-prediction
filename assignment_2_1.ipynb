{
 "cells": [
  {
   "cell_type": "markdown",
   "metadata": {
    "colab_type": "text",
    "id": "2hSzcqgzluB8",
    "pycharm": {
     "name": "#%% md\n"
    }
   },
   "source": [
    "# Time Series Prediction"
   ]
  },
  {
   "cell_type": "markdown",
   "metadata": {
    "colab_type": "text",
    "id": "cQoJi3q_I6fg",
    "pycharm": {
     "name": "#%% md\n"
    }
   },
   "source": [
    "Due to the sequential charasteristics of RNNs, they can be used for time series prediction task. A time series is a series of data points indexed in time order. One example of time series is stock prices at regular intervals of time (hourly, daily, etc.). There have been many attempts to forecast stocks market, some belive predicting the market is impossible because of its total random behaviour, while some (mainly stocks technical analysts) belive not 100% accurate, but it is partly predictable, as they say \"history repeats itself\" (this phrase indicates that there might be some repetitive patterns in market's behaviour). \n",
    "\n",
    "In this practice, we are going to discover ourselves whether it is possible or not, whether we are going to be rich or broke :)  "
   ]
  },
  {
   "cell_type": "markdown",
   "metadata": {
    "colab_type": "text",
    "id": "tBLpUtW_5Q9K",
    "pycharm": {
     "name": "#%% md\n"
    }
   },
   "source": [
    "## Stocks Prediction Using LSTM"
   ]
  },
  {
   "cell_type": "markdown",
   "metadata": {
    "colab_type": "text",
    "id": "EfO4ddWV5ZLS",
    "pycharm": {
     "name": "#%% md\n"
    }
   },
   "source": [
    "LSTMs can be used for modeling time series (such as stocks market) as they are capable of remembering past information. Stock price prediction is similar to any other machine learning problem where we are given a set of features and we have to predict a corresponding value, in this case our features are the closing prices of stocks in the past 60 days and we want to predict next closing price. We can use LSTM to model this 60 days sequence by a hidden state as we do in all other sequence modeling problems:\n",
    "\n",
    "<p align=\"center\"><img src=\"https://drive.google.com/thumbnail?id=1hml7fG9_GKDLH1068Wq_Jk-D09FtQk17&sz=w1000-h1000\" width=\"800\"/></p>\n",
    "\n",
    "</br>\n",
    "\n",
    "We are going to solve these two following problems:\n",
    "* 1 . Predicting the exact price at time $T_i$ given prices at times $T_{i-60}$, ..., $T_{i-1}$\n",
    "\n",
    "* 2 . A simplified version of previous problem, predicting the direction of price at time $T_i$ (whether it is increasing or decreasing) given prices at times $T_{i-60}$, ..., $T_{i-1}$\n",
    "\n",
    "\n",
    "So the first task is a regression and the second one is a classification problem.\n"
   ]
  },
  {
   "cell_type": "markdown",
   "metadata": {
    "colab_type": "text",
    "id": "JI0Ub0KuK0wG",
    "pycharm": {
     "name": "#%% md\n"
    }
   },
   "source": [
    "### 1. Predicting The Exact Price"
   ]
  },
  {
   "cell_type": "markdown",
   "metadata": {
    "colab_type": "text",
    "id": "LSNVvB-apMAr",
    "pycharm": {
     "name": "#%% md\n"
    }
   },
   "source": [
    "**DATA:**\n",
    "\n",
    "The data that we are going to use are from ***Yahoo Finance*** (a place to look up stock market data and company news). We can accsess historical market data from *Yahoo Finance* using python ***yfinance*** module. \n",
    "\n",
    "Let's install *yfinance* module first:"
   ]
  },
  {
   "cell_type": "code",
   "execution_count": 35,
   "metadata": {
    "colab": {},
    "colab_type": "code",
    "id": "_zYyq0SlbY_a",
    "pycharm": {
     "name": "#%%\n"
    }
   },
   "outputs": [],
   "source": [
    "from IPython.display import clear_output\n",
    "\n",
    "!pip install yfinance\n",
    "\n",
    "clear_output()"
   ]
  },
  {
   "cell_type": "markdown",
   "metadata": {
    "colab_type": "text",
    "id": "9wAwSxCbbWlt",
    "pycharm": {
     "name": "#%% md\n"
    }
   },
   "source": [
    "For training our algorithm, we will be using the Apple stock prices from 1st January 2014 to 1st January 2018. In order to evaluate the performance of the algorithm, we will be using the prices from 1st January 2018 to 1st January 2019. \n",
    "\n",
    "Let's get the data and visualise it:"
   ]
  },
  {
   "cell_type": "code",
   "execution_count": 36,
   "metadata": {
    "colab": {
     "base_uri": "https://localhost:8080/",
     "height": 281
    },
    "colab_type": "code",
    "id": "U2Q70Xcr3nNR",
    "outputId": "d6b68bfd-b47d-4aeb-8ac8-6d4647a3a58b",
    "pycharm": {
     "is_executing": true,
     "name": "#%%\n"
    }
   },
   "outputs": [
    {
     "data": {
      "image/png": "[encoded data removed]",
      "text/plain": [
       "<Figure size 432x288 with 1 Axes>"
      ]
     },
     "metadata": {
      "needs_background": "light"
     },
     "output_type": "display_data"
    }
   ],
   "source": [
    "\n",
    "import matplotlib.pyplot as plt\n",
    "import yfinance as yf  \n",
    "\n",
    "train_data = yf.download('AAPL','2014-01-01','2018-01-01')\n",
    "test_data = yf.download('AAPL','2018-01-01','2019-01-01')\n",
    "\n",
    "train_data.Close.plot()\n",
    "test_data.Close.plot()\n",
    "plt.legend ([\"Train\", \"Test\"])\n",
    "\n",
    "clear_output()\n",
    "plt.show()"
   ]
  },
  {
   "cell_type": "markdown",
   "metadata": {
    "colab_type": "text",
    "id": "AIIDgdQfcSK3",
    "pycharm": {
     "name": "#%% md\n"
    }
   },
   "source": [
    "As you can see our data is just a sequence of numbers ordered by time. \n",
    "\n",
    "In order to normalize our data we scale them between 0 and 1: "
   ]
  },
  {
   "cell_type": "code",
   "execution_count": 37,
   "metadata": {
    "colab": {
     "base_uri": "https://localhost:8080/",
     "height": 54
    },
    "colab_type": "code",
    "id": "8ge5thz254Kf",
    "outputId": "5e3d22e6-5386-4205-86ff-bc1c57400ee2",
    "pycharm": {
     "is_executing": true,
     "name": "#%%\n"
    }
   },
   "outputs": [
    {
     "name": "stdout",
     "output_type": "stream",
     "text": [
      "train_scaled.shape : (1007, 1)\n",
      "test_scaled.shape : (251, 1)\n"
     ]
    }
   ],
   "source": [
    "from sklearn.preprocessing import MinMaxScaler \n",
    "import numpy as np\n",
    "scaler = MinMaxScaler(feature_range = (0, 1)).fit(train_data.Close.values.reshape(-1, 1))\n",
    "\n",
    "train_scaled = scaler.transform(train_data.Close.values.reshape(-1, 1))\n",
    "test_scaled = scaler.transform(test_data.Close.values.reshape(-1, 1))  \n",
    "\n",
    "print (\"train_scaled.shape :\", train_scaled.shape)\n",
    "print (\"test_scaled.shape :\", test_scaled.shape)"
   ]
  },
  {
   "cell_type": "markdown",
   "metadata": {
    "colab_type": "text",
    "id": "_9M3_Ch_eRFx",
    "pycharm": {
     "name": "#%% md\n"
    }
   },
   "source": [
    "Now we create our input output pairs from our sequence:"
   ]
  },
  {
   "cell_type": "code",
   "execution_count": 38,
   "metadata": {
    "colab": {},
    "colab_type": "code",
    "id": "NOs8KBcj6mpG",
    "pycharm": {
     "name": "#%%\n"
    }
   },
   "outputs": [],
   "source": [
    "train_features_set = []  \n",
    "train_labels = []  \n",
    "for i in range(60, train_scaled.shape[0]):  \n",
    "    train_features_set.append(train_scaled[i-60:i, 0])\n",
    "    train_labels.append(train_scaled[i, 0])"
   ]
  },
  {
   "cell_type": "markdown",
   "metadata": {
    "colab_type": "text",
    "id": "zWmPH1aqfdzH",
    "pycharm": {
     "name": "#%% md\n"
    }
   },
   "source": [
    "We need to convert these lists to the numpy arrays before we can use them for training. Then in order to train LSTM on our data, we need to convert our data into the shape accepted by the LSTM. We need to convert our data into three-dimensional format. The first dimension is the number of records or rows in the dataset which is 1007 in our case. The second dimension is the number of time steps which is 60 while the last dimension is the number of indicators. Since we are only using one feature, i.e Closing price, the number of indicators will be one."
   ]
  },
  {
   "cell_type": "code",
   "execution_count": 39,
   "metadata": {
    "colab": {},
    "colab_type": "code",
    "id": "bVh8Igbrfw8L",
    "pycharm": {
     "name": "#%%\n"
    }
   },
   "outputs": [],
   "source": [
    "train_features_set, train_labels = np.array(train_features_set), np.array(train_labels)\n",
    "train_features_set = np.reshape(train_features_set, (train_features_set.shape[0], train_features_set.shape[1], 1))"
   ]
  },
  {
   "cell_type": "markdown",
   "metadata": {
    "colab_type": "text",
    "id": "tI8HP9NqiYzv",
    "pycharm": {
     "name": "#%% md\n"
    }
   },
   "source": [
    "Now let's create and train a simple model, our model has a stack of 4 lstm layers and a single output layer: "
   ]
  },
  {
   "cell_type": "code",
   "execution_count": 40,
   "metadata": {
    "colab": {},
    "colab_type": "code",
    "id": "H0UHr-Ef8pHr",
    "pycharm": {
     "name": "#%%\n"
    }
   },
   "outputs": [],
   "source": [
    "from keras.models import Sequential  \n",
    "from keras.layers import Dense  \n",
    "from keras.layers import LSTM  \n",
    "from keras.layers import Dropout  \n",
    "\n",
    "model = Sequential()\n",
    "model.add(LSTM(units=50, return_sequences=True, input_shape=(train_features_set.shape[1], 1)))\n",
    "model.add(Dropout(0.2))\n",
    "\n",
    "model.add(LSTM(units=50, return_sequences=True))  \n",
    "model.add(Dropout(0.2))\n",
    "\n",
    "model.add(LSTM(units=50, return_sequences=True))  \n",
    "model.add(Dropout(0.2))\n",
    "\n",
    "model.add(LSTM(units=50))  \n",
    "model.add(Dropout(0.2))\n",
    "\n",
    "# we have a single output so this layer has 1 unit\n",
    "model.add(Dense(units = 1))\n",
    "\n",
    "model.compile(optimizer = 'adam', loss = 'mean_squared_error')\n",
    "\n",
    "model.fit(train_features_set, train_labels, epochs = 100, batch_size = 30)\n",
    "\n",
    "clear_output()"
   ]
  },
  {
   "cell_type": "markdown",
   "metadata": {
    "colab_type": "text",
    "id": "6n8LuRDDqKkL",
    "pycharm": {
     "name": "#%% md\n"
    }
   },
   "source": [
    "Now we create our test features set similar to what we did with our training set:"
   ]
  },
  {
   "cell_type": "code",
   "execution_count": 41,
   "metadata": {
    "colab": {},
    "colab_type": "code",
    "id": "8_Z0-AoCqZwV",
    "pycharm": {
     "name": "#%%\n"
    }
   },
   "outputs": [],
   "source": [
    "test_scaled = scaler.transform(test_data.Close.values.reshape(-1, 1))  \n",
    "\n",
    "test_features_set = []  \n",
    "for i in range(60, test_scaled.shape[0]):  \n",
    "    test_features_set.append(test_scaled[i-60:i, 0])\n",
    "    \n",
    "test_features_set = np.array(test_features_set)  \n",
    "test_features_set = np.reshape(test_features_set, (test_features_set.shape[0], test_features_set.shape[1], 1))"
   ]
  },
  {
   "cell_type": "markdown",
   "metadata": {
    "colab_type": "text",
    "id": "19NNvTHHqsdH",
    "pycharm": {
     "name": "#%% md\n"
    }
   },
   "source": [
    "And finaly let's see the results:"
   ]
  },
  {
   "cell_type": "code",
   "execution_count": 42,
   "metadata": {
    "colab": {
     "base_uri": "https://localhost:8080/",
     "height": 281
    },
    "colab_type": "code",
    "id": "nU6kKlck-UAL",
    "outputId": "c8ae8f5f-7351-450b-acf8-4802f5d48076",
    "pycharm": {
     "is_executing": true,
     "name": "#%%\n"
    }
   },
   "outputs": [
    {
     "name": "stdout",
     "output_type": "stream",
     "text": [
      "6/6 [==============================] - 1s 20ms/step\n"
     ]
    },
    {
     "data": {
      "image/png": "[encoded data removed]",
      "text/plain": [
       "<Figure size 432x288 with 1 Axes>"
      ]
     },
     "metadata": {
      "needs_background": "light"
     },
     "output_type": "display_data"
    }
   ],
   "source": [
    "predictions = model.predict(test_features_set)\n",
    "predictions = scaler.inverse_transform(predictions)  \n",
    "  \n",
    "plt.plot(test_data.Close.values[60:], color='blue', label='Actual Apple Stock Price')  \n",
    "plt.plot(predictions , color='red', label='Predicted Apple Stock Price')  \n",
    "plt.title('Apple Stock Price Prediction on Test Set')    \n",
    "plt.ylabel('Apple Stock Price')  \n",
    "plt.legend()  \n",
    "plt.show()"
   ]
  },
  {
   "cell_type": "markdown",
   "metadata": {
    "colab_type": "text",
    "id": "Ujgd8pNxre8D",
    "pycharm": {
     "name": "#%% md\n"
    }
   },
   "source": [
    "* At first sight, it seems the predictions are following  pretty well the actual trend. What do you think about the result? Are you willing to risk using this predictions in real world? "
   ]
  },
  {
   "cell_type": "markdown",
   "metadata": {
    "colab_type": "text",
    "id": "stxlKK1utSvU",
    "pycharm": {
     "name": "#%% md\n"
    }
   },
   "source": [
    "$\\color{red}{\\text{No. This model depends only on previous stock prices and doesn't take into account the context, or why the prices went up or down.Also, at some timestamps, for example at around t=80, the model predicts the price well for the next time stamp, but a few timestamps later, the true price greatly increases, or at timestamp around t=150 same thing happens but the price takes a massive fall. If there are other agents during the time of prediction and the correctly predict actual change that the prices will fall, they will have the advantage, and close deals further before than just one timestamp away from the price falling, and therefore our weak model will not be able to draw out money from the given stock share since there will be nobody buying the stocks from us. Another thing to note is that our model changes way too smoothly and doesn't respond well to great changes that happend in short term.}}$"
   ]
  },
  {
   "cell_type": "markdown",
   "metadata": {
    "colab_type": "text",
    "id": "zzlrh1NHtdnS",
    "pycharm": {
     "name": "#%% md\n"
    }
   },
   "source": [
    "### 2. Predicting The Direction"
   ]
  },
  {
   "cell_type": "markdown",
   "metadata": {
    "colab_type": "text",
    "id": "VHLBKZxXtpOP",
    "pycharm": {
     "name": "#%% md\n"
    }
   },
   "source": [
    "Previous model can be evaluated  just visually. We can evaluate a classification task using its special measures (such as f-score or accuracy) much better than a regression task. So in order to finaly decide whether the stocks market prediction is practical or not, we define this second task.\n",
    "\n",
    "Implement a model similar to previous one, this time the task is to predict whether the price is going to increase or decrease (output will be either 1 or 0 respectively) at time $T_i$ given prices at times $T_{i-60}$, ..., $T_{i-1}$ :"
   ]
  },
  {
   "cell_type": "code",
   "execution_count": 66,
   "metadata": {},
   "outputs": [
    {
     "name": "stdout",
     "output_type": "stream",
     "text": [
      "6/6 [==============================] - 0s 18ms/step\n"
     ]
    }
   ],
   "source": [
    "previous_prices = test_scaled[60 - 1: -1, 0]\n",
    "predicted_prices = model.predict(test_features_set)\n",
    "true_prices = test_scaled[60:, 0]\n",
    "\n",
    "predicted_directions = []\n",
    "for _, (old_price, new_price) in enumerate(zip(previous_prices, predicted_prices)):\n",
    "    dir_pred = 1 if new_price > old_price else 0\n",
    "    predicted_directions.append(dir_pred)\n",
    "\n",
    "predicted_directions = np.array(predicted_directions)\n",
    "true_directions = []\n",
    "for _, (old_price, new_price) in enumerate(zip(previous_prices, true_prices)):\n",
    "    dir_true = 1 if new_price > old_price else 0\n",
    "    true_directions.append(dir_true)\n",
    "\n",
    "true_directions = np.array(true_directions)"
   ]
  },
  {
   "cell_type": "markdown",
   "metadata": {
    "colab_type": "text",
    "id": "FhvzyKn_ucd0",
    "pycharm": {
     "name": "#%% md\n"
    }
   },
   "source": [
    "Evaluate your trained model using the test set and report accuracy and f1-score your model archived: "
   ]
  },
  {
   "cell_type": "code",
   "execution_count": 70,
   "metadata": {
    "colab": {},
    "colab_type": "code",
    "id": "NW-MGFhgu4Lk",
    "pycharm": {
     "name": "#%%\n"
    }
   },
   "outputs": [
    {
     "name": "stdout",
     "output_type": "stream",
     "text": [
      "Accuracy of the model: 0.4816753926701571\n",
      "f1_score of the model: 0.5676855895196506\n"
     ]
    }
   ],
   "source": [
    "########################################\n",
    "#     Put your implementation here     #\n",
    "########################################\n",
    "correct = (true_directions == predicted_directions).sum()\n",
    "total = len(true_directions)\n",
    "true_pos = sum((true_directions == predicted_directions) & (predicted_directions == 1))\n",
    "pred_pos = sum(predicted_directions == 1)\n",
    "real_pos = sum(true_directions == 1)\n",
    "\n",
    "accuracy = correct / total\n",
    "precision = true_pos / pred_pos\n",
    "recall = true_pos / real_pos\n",
    "f1_score = 2 * (precision * recall) / (precision + recall)\n",
    "\n",
    "print(f\"Accuracy of the model: {accuracy}\")\n",
    "print(f\"f1_score of the model: {f1_score}\")"
   ]
  },
  {
   "cell_type": "markdown",
   "metadata": {
    "colab_type": "text",
    "id": "DaFxn4MR_4-4",
    "pycharm": {
     "name": "#%% md\n"
    }
   },
   "source": [
    "Do not worry if your results are not as promising as before :))\n",
    "* Comparing new results with previuos ones, why do you think this happens? Doesn't this task supposed to be an easier version of the previous one (if you are able to predict the actual price, you are already able to predict the direction of price trend)? Explain your toughts:\n"
   ]
  },
  {
   "cell_type": "markdown",
   "metadata": {
    "colab_type": "text",
    "id": "byIh3cwmBLt9",
    "pycharm": {
     "name": "#%% md\n"
    }
   },
   "source": [
    "$\\color{red}{\\text{This is probably because the real prices oscillate very frequently, and therefore its direction is almost random and unpredictable at given timestamps. No, if you are able to predict the price, well, it might mean that the model is able to predict the price in a longer period of time and may not be specific enough to know exactly where it will go up or down. This is like real world, we expect stock prices to be in some inferred range, and not exceed a certain threshold or fall quickly, but we can't for certain predict for a short amount of time if the price will go up or not.}}$"
   ]
  },
  {
   "cell_type": "markdown",
   "metadata": {
    "colab_type": "text",
    "id": "v-ekiL12B6th",
    "pycharm": {
     "name": "#%% md\n"
    }
   },
   "source": [
    "* Intuitively explain what kind of properties do you think a time series need to have in order to be predictable? "
   ]
  },
  {
   "cell_type": "markdown",
   "metadata": {
    "colab_type": "text",
    "id": "uAtpWmGFEIG4",
    "pycharm": {
     "name": "#%% md\n"
    }
   },
   "source": [
    "$\\color{red}{\\text{It needs to not be too noisy and its value needs to be consistent over a period of time and maintain its value, and not change by much, given a small change in the input. If the real function of time series that we are trying to estimate has its derivative limited (Libshuitz continous), it will help with the consistency of the time series.}}$"
   ]
  }
 ],
 "metadata": {
  "accelerator": "GPU",
  "colab": {
   "collapsed_sections": [],
   "name": "assignment_05.ipynb",
   "provenance": [],
   "toc_visible": true,
   "version": "0.3.2"
  },
  "kernelspec": {
   "display_name": "Python 3 (ipykernel)",
   "language": "python",
   "name": "python3"
  },
  "language_info": {
   "codemirror_mode": {
    "name": "ipython",
    "version": 3
   },
   "file_extension": ".py",
   "mimetype": "text/x-python",
   "name": "python",
   "nbconvert_exporter": "python",
   "pygments_lexer": "ipython3",
   "version": "3.9.12"
  }
 },
 "nbformat": 4,
 "nbformat_minor": 1
}
